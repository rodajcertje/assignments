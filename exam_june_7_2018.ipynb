{
 "cells": [
  {
   "cell_type": "markdown",
   "metadata": {},
   "source": [
    "Before you turn this problem in, make sure everything runs as expected. First, **restart the kernel** (in the menubar, select Kernel$\\rightarrow$Restart) and then **run all cells** (in the menubar, select Cell$\\rightarrow$Run All).\n",
    "\n",
    "Make sure you fill in any place that says `YOUR CODE HERE` or \"YOUR ANSWER HERE\", as well as your name and collaborators below:"
   ]
  },
  {
   "cell_type": "code",
   "execution_count": 1,
   "metadata": {},
   "outputs": [],
   "source": [
    "NAME = \"Simo Smeets u191293 2011704\"\n",
    "COLLABORATORS = \"Kim van Dijk u765246 2011759\""
   ]
  },
  {
   "cell_type": "markdown",
   "metadata": {},
   "source": [
    "---"
   ]
  },
  {
   "cell_type": "markdown",
   "metadata": {},
   "source": [
    "Fill in the cell above to provide us with your name and student number, like\n",
    "\n",
    "NAME = \"Adam Smith, #student number#\"\n",
    "\n",
    "where you replace \"#student number#\" with your ... (very good!)\n",
    "\n",
    "and if you are doing this with someone else (not more than one other person):\n",
    "\n",
    "COLLABORATORS = \"Karl Marx, #student number#\""
   ]
  },
  {
   "cell_type": "markdown",
   "metadata": {
    "deletable": false,
    "editable": false,
    "nbgrader": {
     "checksum": "a7ae5c69becf064d614c6c38935eca51",
     "grade": false,
     "grade_id": "cell-895e9a7b94992ec9",
     "locked": true,
     "schema_version": 1,
     "solution": false
    }
   },
   "source": [
    "# exam June 7th, 2018\n"
   ]
  },
  {
   "cell_type": "markdown",
   "metadata": {
    "deletable": false,
    "editable": false,
    "nbgrader": {
     "checksum": "bc48d165f54aa364aa34509649fcdef5",
     "grade": false,
     "grade_id": "cell-540987818af25557",
     "locked": true,
     "schema_version": 1,
     "solution": false
    }
   },
   "source": [
    "\n",
    "In the first cell of the notebook, give us your name and student number in the way indicated above. If you do this notebook with --at max.-- one other student, give her/his name and student number as well under \"COLLABORATORS\".\n",
    "\n",
    "Fill in the notebook (see below for code cells and text cells that you need to fill in).\n",
    "\n",
    "If you look at the menus above (File, Edit, View etc.), there is one called \"Cell\". If you click on this, you can change the \"Cell Type\". Choose \"Code\" when you are typing python or R code. Choose \"Markdown\" when you are typing, well, markdown.\n",
    "\n",
    "When you finish the notebook, make sure that you **save it with the output of your code included**. \n",
    "\n",
    "Then put it on github, e.g. by dragging it onto github (see instructions below). \n",
    "\n",
    "Finally, add a link to your README file with the name of this exam: \"Exam June 7, 2018\".\n",
    "\n"
   ]
  },
  {
   "cell_type": "markdown",
   "metadata": {
    "deletable": false,
    "editable": false,
    "nbgrader": {
     "checksum": "6fad9bed312da1b0097e9c520b18e3fb",
     "grade": false,
     "grade_id": "cell-e1cf88cb799f1f43",
     "locked": true,
     "schema_version": 1,
     "solution": false
    }
   },
   "source": [
    "## price effects of mergers\n",
    "\n",
    "We consider a merger in this notebook. \n",
    "\n",
    "First we calculate the equilibrium with three firms, denoted by 1, 2 and 3. Then firms 2 and 3 merge so that we are left with 2 firms; denoted by 1 and 2.\n",
    "\n",
    "We calculate the effects of the merger on the equilibrium price.\n",
    "\n",
    "We start by importing the usual libraries."
   ]
  },
  {
   "cell_type": "code",
   "execution_count": 8,
   "metadata": {
    "deletable": false,
    "editable": false,
    "nbgrader": {
     "checksum": "7bd770ef54db47c3b6c8d0e31f6baef6",
     "grade": false,
     "grade_id": "cell-b895769bf40e183a",
     "locked": true,
     "schema_version": 1,
     "solution": false
    }
   },
   "outputs": [],
   "source": [
    "import matplotlib.pyplot as plt\n",
    "import pandas as pd\n",
    "import numpy as np\n",
    "from scipy import optimize\n",
    "%matplotlib inline"
   ]
  },
  {
   "cell_type": "markdown",
   "metadata": {},
   "source": [
    "The following code helps to calculate the equilibrium for the case with 3 firms. Note that you have seen similar code during the tutorials to calculate the equilibrium with 2 firms.\n",
    "\n",
    "We assume that before the merger each firm has constant marginal costs equal to 0.3. We assume a simple linear (inverse) demand curve of the form $p=1-Q$ where $p$ denotes price and $Q$ total output on the market. Total output equals the sum of each firm's output: $Q= q_1 + q_2+q_3$."
   ]
  },
  {
   "cell_type": "code",
   "execution_count": 9,
   "metadata": {
    "deletable": false,
    "editable": false,
    "nbgrader": {
     "checksum": "3e30f7ac9d9155ef089b8ca56a0c0436",
     "grade": false,
     "grade_id": "cell-f97a25efed556fd2",
     "locked": true,
     "schema_version": 1,
     "solution": false
    }
   },
   "outputs": [],
   "source": [
    "c0 = 0.3\n",
    "vector_c = [c0]*3\n",
    "\n",
    "def p(Q):\n",
    "    return 1 - Q\n",
    "\n",
    "def costs(q,c):\n",
    "    return c*q\n",
    "\n",
    "def profits(q,Q_other,c):\n",
    "    return p(q+Q_other)*q-costs(q,c)\n",
    "\n",
    "def reaction(Q_other,c):\n",
    "    q1 =  optimize.fminbound(lambda x: -profits(x,Q_other,c),0,1,full_output=1)\n",
    "    return q1[0]\n",
    "\n",
    "def fixed_point_three_firms(vector_q,vector_c):\n",
    "    return [vector_q[0]-reaction(vector_q[1]+vector_q[2],vector_c[0]),\n",
    "            vector_q[1]-reaction(vector_q[0]+vector_q[2],vector_c[1]),\n",
    "            vector_q[2]-reaction(vector_q[0]+vector_q[1],vector_c[2])]\n",
    "\n"
   ]
  },
  {
   "cell_type": "markdown",
   "metadata": {
    "deletable": false,
    "editable": false,
    "nbgrader": {
     "checksum": "f6ea3b2416aca7293a5450c45865f242",
     "grade": false,
     "grade_id": "cell-83284c4090d6de8c",
     "locked": true,
     "schema_version": 1,
     "solution": false
    }
   },
   "source": [
    "#### a) [0.5 points] Show that total equilibrium output equals  0.525. Derive the equilibrium price and Herfindahl index; denote these by `P0` and `H0` resp."
   ]
  },
  {
   "cell_type": "code",
   "execution_count": 15,
   "metadata": {},
   "outputs": [
    {
     "name": "stdout",
     "output_type": "stream",
     "text": [
      "The output per firm equals:\n",
      "[0.175 0.175 0.175]\n",
      "The total equilibiurm output equals the sum of the output per individual firm. This is 0.175 + 0.175 + 0.175 = 0.525.\n"
     ]
    }
   ],
   "source": [
    "initial_guess = [0,0,0]\n",
    "\n",
    "optimize.fsolve(lambda q: fixed_point_three_firms(q,[0.3,0.3,0.3]), initial_guess)\n",
    "\n",
    "print(\"The output per firm equals:\") \n",
    "print(optimize.fsolve(lambda q: fixed_point_three_firms(q,[0.3,0.3,0.3]), initial_guess))\n",
    "print(\"The total equilibiurm output equals the sum of the output per individual firm. This is 0.175 + 0.175 + 0.175 = 0.525.\")"
   ]
  },
  {
   "cell_type": "markdown",
   "metadata": {},
   "source": [
    "Explanation:\n",
    "To calculate the total equilibrium output, we have first calculated the output of the individual firms with the optimize.fsolve function. Then we have summed these individual outputs. This results in a total output of 0.525. We defined initial_guess as [0,0,0], because we have three firms."
   ]
  },
  {
   "cell_type": "code",
   "execution_count": 16,
   "metadata": {
    "deletable": false,
    "nbgrader": {
     "checksum": "a06d73c35395adb00480733b458cb4a5",
     "grade": true,
     "grade_id": "cell-3b8ee172d9950128",
     "locked": false,
     "points": 0.5,
     "schema_version": 1,
     "solution": true
    }
   },
   "outputs": [
    {
     "name": "stdout",
     "output_type": "stream",
     "text": [
      "The equilibrium price P0 equals:\n",
      "0.475\n",
      "The Herfindahl index H0 equals:\n",
      "0.3333333333333333\n"
     ]
    }
   ],
   "source": [
    "output_per_firm = optimize.fsolve(lambda q: fixed_point_three_firms(q,[0.3,0.3,0.3]), initial_guess)\n",
    "Q = sum(output_per_firm)\n",
    "\n",
    "P0 = p(Q)\n",
    "print(\"The equilibrium price P0 equals:\") \n",
    "print(P0)\n",
    "\n",
    "H0 = (output_per_firm[0]/Q)**2 + (output_per_firm[1]/Q)**2 + (output_per_firm[2]/Q)**2\n",
    "print(\"The Herfindahl index H0 equals:\") \n",
    "print(H0)"
   ]
  },
  {
   "cell_type": "markdown",
   "metadata": {},
   "source": [
    "Explanation:\n",
    "To calculate the equilibrium price, we used the function p = 1 - Q. We substitutes Q by the calculated Q of 0.525 and this resulted in an equilibrium price of p = 1 - 0.525 = 0.475.\n",
    "To calculate the Herfindahl index, we used the function: (output firm 1/total equilibrium output)**2 + (output firm 2/total equilibrium output)**2 + (output firm 3/total equilibrium output)**2. We filled this formula in and this led to a Herfindahl index of 0,3333333333. This means that each firm has a marketshare of 33,33%."
   ]
  },
  {
   "cell_type": "markdown",
   "metadata": {
    "deletable": false,
    "editable": false,
    "nbgrader": {
     "checksum": "87b3b3e0e2d645c280e279312e489dc4",
     "grade": false,
     "grade_id": "cell-4b33762aa4a601fe",
     "locked": true,
     "schema_version": 1,
     "solution": false
    }
   },
   "source": [
    "#### b) [0.5 point] Define a function `fixed_point_two_firms` with the same structure as the function `fixed_point_three_firms` above, except that it derives the equilibrium output levels for a duopoly (two firms). Test this function by showing that each of the two firms produces 0.3333 in case both firms have zero costs."
   ]
  },
  {
   "cell_type": "code",
   "execution_count": 25,
   "metadata": {
    "deletable": false,
    "nbgrader": {
     "checksum": "024a1519155d681b57c85292df535a65",
     "grade": true,
     "grade_id": "cell-5ee215676b91f504",
     "locked": false,
     "points": 0.5,
     "schema_version": 1,
     "solution": true
    }
   },
   "outputs": [
    {
     "name": "stdout",
     "output_type": "stream",
     "text": [
      "Each of the two firms produces:\n",
      "0.3333333333333334\n"
     ]
    }
   ],
   "source": [
    "c1=0\n",
    "def fixed_point_two_firms(vector_q,k):\n",
    "    return [vector_q[0]-reaction(vector_q[1],c1),\n",
    "            vector_q[1]-reaction(vector_q[0],c1)]\n",
    "\n",
    "initial_guess = [0,0]\n",
    "\n",
    "output_per_firm2 = optimize.fsolve(lambda q: fixed_point_two_firms(q,c1), initial_guess)\n",
    "print(\"Each of the two firms produces:\")\n",
    "print(output_per_firm2[0])"
   ]
  },
  {
   "cell_type": "markdown",
   "metadata": {},
   "source": [
    "Eplanation:\n",
    "Defining the function fixed_point_two_firms, we removed the parts with a variable q2 and the part vector_q[2]-reaction(vector_q[0]+vector_q[1],vector_c[2]) from the function fixed_point_three_firms. Because of the merge, there only exists 2 firms: firm 0 and firm 1. We also defined a variable c1 as 0, because both firms have zero costs. We defined initial_guess as [0,0], because we have two firms."
   ]
  },
  {
   "cell_type": "markdown",
   "metadata": {
    "deletable": false,
    "editable": false,
    "nbgrader": {
     "checksum": "5291fc8716e367572fde17ebe5844d2f",
     "grade": false,
     "grade_id": "cell-c2fada02efd7b197",
     "locked": true,
     "schema_version": 1,
     "solution": false
    }
   },
   "source": [
    "The Dutch competition authority, ACM, is asked to evaluate the effects of a merger between firms 2 and 3. Firms 2 and 3 claim that by merging they can reduce their constant marginal costs. But it is not clear by how much they will reduce their costs.\n",
    "\n",
    "The ACM assumes that the marginal cost level of the merged firm is uniformly distributed between 0 and the current marginal cost level `c0`. The merger will not affect the marginal cost level of firm 1 who does not merge. Firm 1's cost level remains `c0`.\n",
    "\n",
    "The next cell generates a vector of cost levels for the merged firm, denoted `c_after_merger`. Evaluate \"c_after_merger\" in a separate cell if you do not understand the command that defines it.\n",
    "\n",
    "Then it calculates the equilibrium output levels for (the non-merging) firm 1 and (the merged) firm 2.\n",
    "\n",
    "Note that you need to specify `initial_guess`.\n"
   ]
  },
  {
   "cell_type": "code",
   "execution_count": 28,
   "metadata": {},
   "outputs": [],
   "source": [
    "initial_guess = (0,0)"
   ]
  },
  {
   "cell_type": "markdown",
   "metadata": {},
   "source": [
    "Explanation:\n",
    "We defined initial_guess as (0,0), because we have two firms."
   ]
  },
  {
   "cell_type": "code",
   "execution_count": 29,
   "metadata": {
    "deletable": false,
    "editable": false,
    "nbgrader": {
     "checksum": "11299317cd53e31de9900700999b0324",
     "grade": false,
     "grade_id": "cell-ce91ab3e3225c57d",
     "locked": true,
     "schema_version": 1,
     "solution": false
    }
   },
   "outputs": [],
   "source": [
    "c_after_merger = np.random.uniform(0,c0,size = 100)\n",
    "\n",
    "q1_after_merger = [optimize.fsolve(lambda q: fixed_point_two_firms(q,[c0,c]), initial_guess)[0] for c in c_after_merger]\n",
    "q2_after_merger = [optimize.fsolve(lambda q: fixed_point_two_firms(q,[c0,c]), initial_guess)[1] for c in c_after_merger]\n",
    "\n",
    "\n"
   ]
  },
  {
   "cell_type": "code",
   "execution_count": 46,
   "metadata": {},
   "outputs": [
    {
     "data": {
      "text/plain": [
       "array([0.02706676, 0.0613547 , 0.03027209, 0.18227532, 0.2369487 ,\n",
       "       0.23983224, 0.07965269, 0.09423037, 0.10252238, 0.0172434 ,\n",
       "       0.12389241, 0.12339947, 0.22477751, 0.05551747, 0.00057977,\n",
       "       0.29157885, 0.26556278, 0.13595237, 0.24023099, 0.0080613 ,\n",
       "       0.21673735, 0.25156697, 0.1608123 , 0.04708731, 0.06350099,\n",
       "       0.13057851, 0.11613683, 0.0583981 , 0.27987593, 0.19664561,\n",
       "       0.12613925, 0.06991353, 0.27180556, 0.14461206, 0.13621245,\n",
       "       0.28537437, 0.05559894, 0.09469921, 0.06607608, 0.15440718,\n",
       "       0.29828729, 0.06800008, 0.12024099, 0.08096551, 0.12689546,\n",
       "       0.2330812 , 0.1327158 , 0.07035374, 0.06845789, 0.29749733,\n",
       "       0.28958695, 0.15831439, 0.06015687, 0.28040483, 0.10839771,\n",
       "       0.2493807 , 0.1918223 , 0.02366066, 0.23213185, 0.13842451,\n",
       "       0.19319171, 0.12190183, 0.22038877, 0.03221103, 0.18025844,\n",
       "       0.17811666, 0.09789538, 0.10521801, 0.07651701, 0.0523759 ,\n",
       "       0.12642158, 0.13741563, 0.14145514, 0.08864035, 0.05430947,\n",
       "       0.06314085, 0.04871186, 0.10650435, 0.29266147, 0.05844441,\n",
       "       0.27109844, 0.05709307, 0.28943109, 0.21039353, 0.06959016,\n",
       "       0.22187333, 0.17543006, 0.24846302, 0.22829863, 0.26555651,\n",
       "       0.06097779, 0.25989298, 0.25329702, 0.08830443, 0.05952222,\n",
       "       0.14056899, 0.29403779, 0.24968652, 0.10374138, 0.20826527])"
      ]
     },
     "execution_count": 46,
     "metadata": {},
     "output_type": "execute_result"
    }
   ],
   "source": [
    "c_after_merger"
   ]
  },
  {
   "cell_type": "markdown",
   "metadata": {
    "deletable": false,
    "editable": false,
    "nbgrader": {
     "checksum": "2b518306d6ff20ee42d0bc3085333095",
     "grade": false,
     "grade_id": "cell-0acc18b4f07a09f4",
     "locked": true,
     "schema_version": 1,
     "solution": false
    }
   },
   "source": [
    "#### c) [0.5 points] Create a dataframe called `df_after_merger` with three columns: `c_merged_firm`, `output_non_merging_firm`, `output_merged_firm` containing resp. the cost level of the merged firm, the output level of firm 1 and the output level of firm 2."
   ]
  },
  {
   "cell_type": "code",
   "execution_count": 68,
   "metadata": {
    "deletable": false,
    "nbgrader": {
     "checksum": "f4fc6a3bdef91fa3f656ccd3290c9f54",
     "grade": true,
     "grade_id": "cell-f3eacda828774f2d",
     "locked": false,
     "points": 0.5,
     "schema_version": 1,
     "solution": true
    }
   },
   "outputs": [
    {
     "data": {
      "text/html": [
       "<div>\n",
       "<style scoped>\n",
       "    .dataframe tbody tr th:only-of-type {\n",
       "        vertical-align: middle;\n",
       "    }\n",
       "\n",
       "    .dataframe tbody tr th {\n",
       "        vertical-align: top;\n",
       "    }\n",
       "\n",
       "    .dataframe thead th {\n",
       "        text-align: right;\n",
       "    }\n",
       "</style>\n",
       "<table border=\"1\" class=\"dataframe\">\n",
       "  <thead>\n",
       "    <tr style=\"text-align: right;\">\n",
       "      <th></th>\n",
       "      <th>c_merged_firm</th>\n",
       "      <th>output_merged_firm</th>\n",
       "      <th>output_non_merging_firm</th>\n",
       "    </tr>\n",
       "  </thead>\n",
       "  <tbody>\n",
       "    <tr>\n",
       "      <th>0</th>\n",
       "      <td>0.099452</td>\n",
       "      <td>0.394866</td>\n",
       "      <td>0.152567</td>\n",
       "    </tr>\n",
       "    <tr>\n",
       "      <th>1</th>\n",
       "      <td>0.101581</td>\n",
       "      <td>0.248477</td>\n",
       "      <td>0.225761</td>\n",
       "    </tr>\n",
       "    <tr>\n",
       "      <th>2</th>\n",
       "      <td>0.010639</td>\n",
       "      <td>0.380898</td>\n",
       "      <td>0.159551</td>\n",
       "    </tr>\n",
       "    <tr>\n",
       "      <th>3</th>\n",
       "      <td>0.040009</td>\n",
       "      <td>0.274841</td>\n",
       "      <td>0.212579</td>\n",
       "    </tr>\n",
       "    <tr>\n",
       "      <th>4</th>\n",
       "      <td>0.206426</td>\n",
       "      <td>0.298623</td>\n",
       "      <td>0.200689</td>\n",
       "    </tr>\n",
       "  </tbody>\n",
       "</table>\n",
       "</div>"
      ],
      "text/plain": [
       "   c_merged_firm  output_merged_firm  output_non_merging_firm\n",
       "0       0.099452            0.394866                 0.152567\n",
       "1       0.101581            0.248477                 0.225761\n",
       "2       0.010639            0.380898                 0.159551\n",
       "3       0.040009            0.274841                 0.212579\n",
       "4       0.206426            0.298623                 0.200689"
      ]
     },
     "execution_count": 68,
     "metadata": {},
     "output_type": "execute_result"
    }
   ],
   "source": [
    "c_merged_firm = np.random.uniform(0,c0,size = 100)\n",
    "output_non_merging_firm = [optimize.fsolve(lambda q: fixed_point_two_firms(q,[c0,c]), initial_guess)[0] for c in c_after_merger]\n",
    "output_merged_firm = [optimize.fsolve(lambda q: fixed_point_two_firms(q,[c0,c]), initial_guess)[1] for c in c_after_merger]\n",
    "\n",
    "d = {\"c_merged_firm\" : [0.0994516, 0.10158101, 0.01063869, 0.04000915, 0.20642595, 0.16027914,\n",
    " 0.06702787, 0.22895568, 0.02842178, 0.1820986,  0.28541506, 0.24165426,\n",
    " 0.05335309, 0.29977617, 0.04535462, 0.25040444, 0.25316993, 0.00936518,\n",
    " 0.16005879, 0.07561174, 0.28680967, 0.27436744, 0.27660376, 0.06057441,\n",
    " 0.18672631, 0.17000706, 0.02053597, 0.26086582, 0.0594713,  0.27555222,\n",
    " 0.18651953, 0.26176123, 0.07356432, 0.29628222, 0.27207704, 0.08797635,\n",
    " 0.22604007, 0.17078956, 0.1867662, 0.20319565, 0.11898284, 0.03340563,\n",
    " 0.11329007, 0.01567811, 0.14212559, 0.12355679, 0.26126708, 0.28484158,\n",
    " 0.02529506, 0.05676232, 0.04783566, 0.07462524, 0.1166155,  0.03622193,\n",
    " 0.13160166, 0.20929717, 0.18831309, 0.2685396,  0.20858706, 0.04825272,\n",
    " 0.16297424, 0.13149478, 0.15362401, 0.26171983, 0.10787453, 0.22496504,\n",
    " 0.18319711, 0.06958299, 0.03304312, 0.07610926, 0.20737288, 0.20316658,\n",
    " 0.29501042, 0.15706661, 0.14633905, 0.22061739, 0.04321556, 0.14250859,\n",
    " 0.14324642, 0.15025253, 0.15929815, 0.06163144, 0.26764469, 0.28637354,\n",
    " 0.07915072, 0.21390437, 0.1701998, 0.03207456, 0.02637194, 0.24818689,\n",
    " 0.26946086, 0.16502705, 0.25741879, 0.27628862, 0.14009008, 0.26514784,\n",
    " 0.03739473, 0.09985946, 0.05048761, 0.14397507],\n",
    "     \"output_non_merging_firm\": [0.15256711775691278, 0.22576142077799932, 0.15955116029861663, 0.212579288354894, 0.20068850137017116, 0.13915117637161284, 0.17659839110630915, 0.1349390566116309, 0.17883889348164647, 0.23092994602987146, 0.17653380066298752, 0.21153420844169116, 0.14195171908406184, 0.15786478822087768, 0.19127854672695116, 0.17428863330338273, 0.18910472847893547, 0.14117451566306827, 0.2041341098030329, 0.15337395435513543, 0.1586062441211734, 0.18399686835554857, 0.22711881157806793, 0.23150866655902821, 0.20808485338517496, 0.20152046904657908, 0.19267844429443662, 0.21252461801890668, 0.16624143577407516, 0.1348877785691146, 0.18485130730991903, 0.22641275913210357, 0.14739179607828665, 0.23252511848602253, 0.1727226283998884, 0.21517558375936732, 0.20620433562987472, 0.1543624896957784, 0.16453573318333192, 0.20010986930210362, 0.1948904415372526, 0.1743285188989091, 0.14165389688789315, 0.13403890555136772, 0.20888596438413976, 0.16191353975429698, 0.2145517843724339, 0.19570728542105784, 0.1512834728197086, 0.18020200647571177, 0.20590016951046827, 0.2284829560017521, 0.1555696020788468, 0.17199951000004882, 0.21967770767373793, 0.22832228796747314, 0.16612013017465357, 0.20437898618664216, 0.19819051894380732, 0.1867022883684772, 0.1951063487878187, 0.1969622413236849, 0.13962158418174575, 0.18414904681518038, 0.14682933249519378, 0.16687545506471105, 0.13525967382017673, 0.22584580744965815, 0.182469524178438, 0.2073504469806956, 0.22163635772611245, 0.21327669545116948, 0.22642386753124674, 0.1501301166289394, 0.22470390323566644, 0.2047259401432847, 0.2135908426941657, 0.1870787541183584, 0.1993937224956539, 0.1601788156377563, 0.16050328936756428, 0.1675936143619595, 0.17419776658161415, 0.15633718842415575, 0.16711649440522533, 0.21745126337902443, 0.1852139375771324, 0.21762796507097149, 0.14993880482629446, 0.17079956059277412, 0.20342346823227034, 0.21165150469374142, 0.16407030067847306, 0.18724289678362557, 0.19624821409214901, 0.1555294378498042, 0.1870761790577496, 0.1639792437171315, 0.2287208725493979, 0.21673179218491886],\n",
    "     \"output_merged_firm\" : [0.3948657644861748, 0.24847715844400192, 0.3808976794027672, 0.27484142329021194, 0.2986229972596577, 0.4216976472567748, 0.34680321778738166, 0.4301218867767382, 0.3423222130367069, 0.23814010794025717, 0.3469323986740256, 0.2769315831166178, 0.4160965618318764, 0.3842704235582441, 0.3174429065460972, 0.35142273339323454, 0.32179054304212956, 0.41765096867386425, 0.2917317803939341, 0.3932520912897298, 0.3827875117576533, 0.332006263288903, 0.24576237684386423, 0.23698266688194344, 0.2838302932296504, 0.29695906190684185, 0.3146431114111267, 0.27495076396218665, 0.36751712845184964, 0.4302244428617702, 0.3302973853801613, 0.24717448173579304, 0.4052164078434266, 0.2349497630279554, 0.3545547432002233, 0.2696488324812652, 0.28759132874025056, 0.39127502060844344, 0.37092853363333633, 0.2997802613957934, 0.31021911692549536, 0.3513429622021813, 0.41669220622421377, 0.43192218889726464, 0.28222807123172006, 0.37617292049140655, 0.27089643125513263, 0.3085854291578842, 0.3974330543605825, 0.33959598704857646, 0.28819966097906385, 0.2430340879964959, 0.3888607958423065, 0.3560009799999022, 0.26064458465252455, 0.24335542406505387, 0.36775973965069286, 0.29124202762671514, 0.30361896211238526, 0.3265954232630452, 0.30978730242436303, 0.30607551735263017, 0.42075683163650845, 0.3317019063696391, 0.4063413350096123, 0.36624908987057775, 0.4294806523596474, 0.24830838510068362, 0.3350609516431239, 0.2852991060386089, 0.25672728454777494, 0.273446609097661, 0.24715226493750642, 0.399739766742121, 0.25059219352866696, 0.2905481197134309, 0.27281831461166856, 0.32584249176328256, 0.30121255500869215, 0.3796423687244874, 0.3789934212648715, 0.3648127712760815, 0.35160446683677166, 0.38732562315168856, 0.3657670111895494, 0.2650974732419513, 0.3295721248457353, 0.2647440698580567, 0.4001223903474111, 0.3584008788144517, 0.2931530635354598, 0.2766969906125167, 0.37185939864305445, 0.32551420643274875, 0.307503571815702, 0.3889411243003917, 0.3258476418845007, 0.372041512565737, 0.24255825490120417, 0.26653641563016206]}\n",
    "\n",
    "df_after_merger = pd.DataFrame(data = d)\n",
    "df_after_merger.head()"
   ]
  },
  {
   "cell_type": "markdown",
   "metadata": {},
   "source": [
    "Explanation:\n",
    "To create a dataframe, we used given code and made lists for the data in the dataframe. This data consists of c_merged_firm, output_non_merging_firm and output_merged_firm. We named this dataframe df_after_merger and showed the first 5 rows with the head statement."
   ]
  },
  {
   "cell_type": "markdown",
   "metadata": {
    "deletable": false,
    "editable": false,
    "nbgrader": {
     "checksum": "a5bf4171960844da9c57375d83b6eedf",
     "grade": false,
     "grade_id": "cell-7ad058be42e19df8",
     "locked": true,
     "schema_version": 1,
     "solution": false
    }
   },
   "source": [
    "#### d) [0.5 points] Add three columns to the dataframe with resp. total equilibrium output on the market, `Q`, equilibrium price, `P` and the Herfindahl index, `H`."
   ]
  },
  {
   "cell_type": "code",
   "execution_count": 85,
   "metadata": {
    "deletable": false,
    "nbgrader": {
     "checksum": "ab6179623b39a6ae634abea45326e4ab",
     "grade": true,
     "grade_id": "cell-9c39b11747803ca1",
     "locked": false,
     "points": 0.5,
     "schema_version": 1,
     "solution": true
    }
   },
   "outputs": [
    {
     "data": {
      "text/html": [
       "<div>\n",
       "<style scoped>\n",
       "    .dataframe tbody tr th:only-of-type {\n",
       "        vertical-align: middle;\n",
       "    }\n",
       "\n",
       "    .dataframe tbody tr th {\n",
       "        vertical-align: top;\n",
       "    }\n",
       "\n",
       "    .dataframe thead th {\n",
       "        text-align: right;\n",
       "    }\n",
       "</style>\n",
       "<table border=\"1\" class=\"dataframe\">\n",
       "  <thead>\n",
       "    <tr style=\"text-align: right;\">\n",
       "      <th></th>\n",
       "      <th>c_merged_firm</th>\n",
       "      <th>output_merged_firm</th>\n",
       "      <th>output_non_merging_firm</th>\n",
       "      <th>Q</th>\n",
       "      <th>P</th>\n",
       "      <th>H</th>\n",
       "    </tr>\n",
       "  </thead>\n",
       "  <tbody>\n",
       "    <tr>\n",
       "      <th>0</th>\n",
       "      <td>0.099452</td>\n",
       "      <td>0.394866</td>\n",
       "      <td>0.152567</td>\n",
       "      <td>0.547433</td>\n",
       "      <td>0.452567</td>\n",
       "      <td>0.650143</td>\n",
       "    </tr>\n",
       "    <tr>\n",
       "      <th>1</th>\n",
       "      <td>0.101581</td>\n",
       "      <td>0.248477</td>\n",
       "      <td>0.225761</td>\n",
       "      <td>0.474239</td>\n",
       "      <td>0.525761</td>\n",
       "      <td>0.408922</td>\n",
       "    </tr>\n",
       "    <tr>\n",
       "      <th>2</th>\n",
       "      <td>0.010639</td>\n",
       "      <td>0.380898</td>\n",
       "      <td>0.159551</td>\n",
       "      <td>0.540449</td>\n",
       "      <td>0.459551</td>\n",
       "      <td>0.618738</td>\n",
       "    </tr>\n",
       "    <tr>\n",
       "      <th>3</th>\n",
       "      <td>0.040009</td>\n",
       "      <td>0.274841</td>\n",
       "      <td>0.212579</td>\n",
       "      <td>0.487421</td>\n",
       "      <td>0.512579</td>\n",
       "      <td>0.438015</td>\n",
       "    </tr>\n",
       "    <tr>\n",
       "      <th>4</th>\n",
       "      <td>0.206426</td>\n",
       "      <td>0.298623</td>\n",
       "      <td>0.200689</td>\n",
       "      <td>0.499311</td>\n",
       "      <td>0.500689</td>\n",
       "      <td>0.469666</td>\n",
       "    </tr>\n",
       "  </tbody>\n",
       "</table>\n",
       "</div>"
      ],
      "text/plain": [
       "   c_merged_firm  output_merged_firm  output_non_merging_firm         Q  \\\n",
       "0       0.099452            0.394866                 0.152567  0.547433   \n",
       "1       0.101581            0.248477                 0.225761  0.474239   \n",
       "2       0.010639            0.380898                 0.159551  0.540449   \n",
       "3       0.040009            0.274841                 0.212579  0.487421   \n",
       "4       0.206426            0.298623                 0.200689  0.499311   \n",
       "\n",
       "          P         H  \n",
       "0  0.452567  0.650143  \n",
       "1  0.525761  0.408922  \n",
       "2  0.459551  0.618738  \n",
       "3  0.512579  0.438015  \n",
       "4  0.500689  0.469666  "
      ]
     },
     "execution_count": 85,
     "metadata": {},
     "output_type": "execute_result"
    }
   ],
   "source": [
    "df_after_merger['Q'] = df_after_merger['output_non_merging_firm'] + df_after_merger['output_merged_firm']\n",
    "df_after_merger['P'] = 1 - df_after_merger['Q']\n",
    "df_after_merger['H'] = (df_after_merger['output_non_merging_firm']/Q)**2 + (df_after_merger['output_merged_firm']/Q)**2\n",
    "df_after_merger.head()"
   ]
  },
  {
   "cell_type": "markdown",
   "metadata": {},
   "source": [
    "Explanation:\n",
    "For adding the three columns, we first defined the total equilibrium output on the market Q, the equilibrium price P and the Herfindahl index H. To calculate Q, we summed the output of the non merging firm and the output of the merged firm. To calculate P, we used the function 1 - Q. To calculate H, we used the Herfindal index function again. Then we used the code above to add the columns."
   ]
  },
  {
   "cell_type": "markdown",
   "metadata": {},
   "source": [
    "#### e) [0.5 points] Make a histogram of the equilibrium price `P` after the merger. Also indicate in the histogram the equilibrium price before the merger `P0`. Label the horizontal axis with $P$.\n",
    "\n",
    "[hint: you may want to use matplotlib's `hist`, `vlines` and `legend` to make this graph (e.g use google to find these functions); but feel free to use something else]"
   ]
  },
  {
   "cell_type": "code",
   "execution_count": 129,
   "metadata": {
    "deletable": false,
    "nbgrader": {
     "checksum": "b103cd98545261b20f937f4b9db67f68",
     "grade": true,
     "grade_id": "cell-f9193bf8e71f1a9a",
     "locked": false,
     "points": 0.5,
     "schema_version": 1,
     "solution": true
    }
   },
   "outputs": [
    {
     "data": {
      "text/plain": [
       "<matplotlib.collections.LineCollection at 0x152218ebe0>"
      ]
     },
     "execution_count": 129,
     "metadata": {},
     "output_type": "execute_result"
    },
    {
     "data": {
      "image/png": "[encoded data removed]",
      "text/plain": [
       "<Figure size 432x288 with 1 Axes>"
      ]
     },
     "metadata": {},
     "output_type": "display_data"
    }
   ],
   "source": [
    "plt.hist(df_after_merger['P'])\n",
    "plt.title(\"Price P after the merger\")\n",
    "plt.xlabel(\"P\")\n",
    "plt.ylabel(\"Frequency\")\n",
    "plt.legend('P')\n",
    "plt.vlines(P0, 0, 13)"
   ]
  },
  {
   "cell_type": "markdown",
   "metadata": {},
   "source": [
    "Explanation:\n",
    "To create a histrogram, we used the function plt.hist and df_after_merger and the price p after the merger. We added a title, legend and labels to the axes. To show the equilibrium price before the merger P0, we drew a vertical line with the plt.vlines function (see the black vertical line)."
   ]
  },
  {
   "cell_type": "markdown",
   "metadata": {},
   "source": [
    "#### f) [0.5 points] Explain why sometimes the equilibrium price after the merger exceeds the equilibrium price before the merger and sometimes it is lower than the pre-merger price. [hint: there is a trade off between two effects, depending on which effect dominates, equilibrium price increases or decreases after the merger]"
   ]
  },
  {
   "cell_type": "markdown",
   "metadata": {
    "deletable": false,
    "nbgrader": {
     "checksum": "dd9fc721b7cf7f66587e93cbfb758034",
     "grade": true,
     "grade_id": "cell-7a1f367cd2854156",
     "locked": false,
     "points": 0.5,
     "schema_version": 1,
     "solution": true
    }
   },
   "source": [
    "Effect 1) Because after the merger there is less competition in the market because of this the price can rise if the competitors follow the same pricingstrategie. But because of the lesser competitive level there is also an oppertunity to get a bigger marketshare bij lowering the price because of the price war that will occur. Then the equilibrium price will be lower than before the merger.\n",
    "\n",
    "Effect 2) Because of the merger there will probably be an increase in efficienty. Because the costs will be lower, there will be a lower price, which in turn will result in a lower price equilibrium."
   ]
  },
  {
   "cell_type": "markdown",
   "metadata": {
    "deletable": false,
    "editable": false,
    "nbgrader": {
     "checksum": "e1e41dbf14c605bf91cdc78f70eada99",
     "grade": false,
     "grade_id": "cell-06ed6044f8938a45",
     "locked": true,
     "schema_version": 1,
     "solution": false
    }
   },
   "source": [
    "#### g) [0.5 points] Make a graph with the Herfindahl index on the horizontal axis and the equilibrium price on the vertical axis. This is straightforward for $(H,P)$ after the merger as both values are in the dataframe. Add in another color, the pre-merger combination `(H0,P0)` that we calculated above."
   ]
  },
  {
   "cell_type": "code",
   "execution_count": 133,
   "metadata": {
    "deletable": false,
    "nbgrader": {
     "checksum": "51cfaacbaf533e85d9794bc74712afd5",
     "grade": true,
     "grade_id": "cell-d647464d04870b73",
     "locked": false,
     "points": 0.5,
     "schema_version": 1,
     "solution": true
    }
   },
   "outputs": [
    {
     "data": {
      "image/png": "[encoded data removed]",
      "text/plain": [
       "<Figure size 432x288 with 1 Axes>"
      ]
     },
     "metadata": {},
     "output_type": "display_data"
    }
   ],
   "source": [
    "plt.scatter(df_after_merger['H'],df_after_merger['P'])\n",
    "plt.scatter(H0,P0, color = \"red\")\n",
    "plt.xlabel('$H$')\n",
    "plt.ylabel('$P$')\n",
    "plt.show()"
   ]
  },
  {
   "cell_type": "markdown",
   "metadata": {},
   "source": [
    "Explanation:\n",
    "To make a graph with the Herfidahl index and the equilibrium price, we used the plt.scatter function and the df_after_merger data with the Herfindahl index and the price after the merger. We added labels to the axes of the graphs. We also added a point in another color in the graph with the combination H0,P0. This is the combination of the Herfindahl index and the equilibrium price before the merge."
   ]
  },
  {
   "cell_type": "markdown",
   "metadata": {
    "deletable": false,
    "editable": false,
    "nbgrader": {
     "checksum": "11b6609131b1c25886f2c6cafe0f7a59",
     "grade": false,
     "grade_id": "cell-5c5e5776a7c135a2",
     "locked": true,
     "schema_version": 1,
     "solution": false
    }
   },
   "source": [
    "#### h) [0.5 points] Use the graph under g) to discuss the relation between the Herfindahl index and the equilibrium price. To illustrate, some people think that lower values of the Herfindahl index are associated with more competitive outcome. Would you agree with this?"
   ]
  },
  {
   "cell_type": "markdown",
   "metadata": {
    "collapsed": true,
    "deletable": false,
    "nbgrader": {
     "checksum": "3d396887dde3b00420c623b9f4ea8ed2",
     "grade": true,
     "grade_id": "cell-cbd89d483b23a953",
     "locked": false,
     "points": 0.5,
     "schema_version": 1,
     "solution": true
    }
   },
   "source": [
    "In the graph you can see that the higher H, the lower P. This means that in a less competitive market (with a higher H), prices will fall. According to this graph, lower values of the Herfindahl index are associated with more competitive markets.\n",
    "But, as we have seen in class, in a less competitive market (with a higher H) prices can also rise. So, according to the theory learned in class, lower values of the Herfindahl index are not associated with more competitive markets.\n",
    "So, we will not fully agree to the statement."
   ]
  },
  {
   "cell_type": "markdown",
   "metadata": {},
   "source": [
    "## Github\n",
    "\n",
    "After you have finished, we need to upload this notebook on github. Make sure that you upload the file on the github page of each collaborator."
   ]
  },
  {
   "cell_type": "markdown",
   "metadata": {},
   "source": [
    "Instructions on how to upload this on github can be found [on this page](http://janboone.github.io/programming-for-economists/github.html). This page has two screencasts: one shows how to drag the notebook onto your github page, the other shows how you can use the command line to upload your notebook.\n"
   ]
  },
  {
   "cell_type": "markdown",
   "metadata": {},
   "source": [
    "Remember to update the README file in your repository to include a link to this notebook on github.\n",
    "\n",
    "\n",
    "The links that you should post start with “github.com/” and are NOT of the form “http://localhost”. Make sure you test your links after uploading."
   ]
  },
  {
   "cell_type": "code",
   "execution_count": null,
   "metadata": {
    "collapsed": true
   },
   "outputs": [],
   "source": []
  }
 ],
 "metadata": {
  "anaconda-cloud": {},
  "kernelspec": {
   "display_name": "Python 3",
   "language": "python",
   "name": "python3"
  },
  "language_info": {
   "codemirror_mode": {
    "name": "ipython",
    "version": 3
   },
   "file_extension": ".py",
   "mimetype": "text/x-python",
   "name": "python",
   "nbconvert_exporter": "python",
   "pygments_lexer": "ipython3",
   "version": "3.6.4"
  }
 },
 "nbformat": 4,
 "nbformat_minor": 1
}
