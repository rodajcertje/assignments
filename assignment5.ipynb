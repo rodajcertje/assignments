{
 "cells": [
  {
   "cell_type": "markdown",
   "metadata": {},
   "source": [
    "# Graded assignment 1\n",
    "\n",
    "Mark Klik & Misja Mikkers\n",
    "\n",
    "\n",
    "# Packages\n",
    "\n",
    "We need the package `tidyverse`"
   ]
  },
  {
   "cell_type": "code",
   "execution_count": 1,
   "metadata": {},
   "outputs": [
    {
     "name": "stderr",
     "output_type": "stream",
     "text": [
      "── Attaching packages ─────────────────────────────────────── tidyverse 1.2.1 ──\n",
      "✔ ggplot2 2.2.1     ✔ purrr   0.2.4\n",
      "✔ tibble  1.4.1     ✔ dplyr   0.7.4\n",
      "✔ tidyr   0.7.2     ✔ stringr 1.2.0\n",
      "✔ readr   1.1.1     ✔ forcats 0.2.0\n",
      "── Conflicts ────────────────────────────────────────── tidyverse_conflicts() ──\n",
      "✖ dplyr::filter() masks stats::filter()\n",
      "✖ dplyr::lag()    masks stats::lag()\n"
     ]
    }
   ],
   "source": [
    "library(tidyverse) "
   ]
  },
  {
   "cell_type": "markdown",
   "metadata": {},
   "source": [
    "# Assignment 1\n",
    "\n",
    "First, we generate some random data:"
   ]
  },
  {
   "cell_type": "code",
   "execution_count": 2,
   "metadata": {},
   "outputs": [
    {
     "data": {
      "text/html": [
       "<table>\n",
       "<thead><tr><th scope=col>V1</th><th scope=col>V2</th><th scope=col>V3</th><th scope=col>V4</th><th scope=col>V5</th><th scope=col>V6</th><th scope=col>V7</th><th scope=col>V8</th><th scope=col>V9</th><th scope=col>V10</th><th scope=col>V11</th><th scope=col>V12</th><th scope=col>V13</th><th scope=col>V14</th><th scope=col>V15</th><th scope=col>V16</th><th scope=col>V17</th><th scope=col>V18</th><th scope=col>V19</th><th scope=col>V20</th></tr></thead>\n",
       "<tbody>\n",
       "\t<tr><td>0.3689486 </td><td>0.8162830 </td><td>0.3789265 </td><td>0.6990312 </td><td>0.1132115 </td><td>0.8860533 </td><td>0.85719333</td><td>0.6280090 </td><td>0.8686048 </td><td>0.9929770 </td><td>0.6207428 </td><td>0.7006315 </td><td>0.7104625 </td><td>0.9454846 </td><td>0.44218312</td><td>0.6167954 </td><td>0.3983785 </td><td>0.9740851 </td><td>0.4962942 </td><td>0.6190498 </td></tr>\n",
       "\t<tr><td>0.4978480 </td><td>0.6686216 </td><td>0.1562422 </td><td>0.7341765 </td><td>0.7821235 </td><td>0.6660901 </td><td>0.09393332</td><td>0.1367171 </td><td>0.2212838 </td><td>0.7885122 </td><td>0.9597345 </td><td>0.5088494 </td><td>0.1501004 </td><td>0.1686903 </td><td>0.04456456</td><td>0.2869243 </td><td>0.6368349 </td><td>0.2069578 </td><td>0.8967705 </td><td>0.1988470 </td></tr>\n",
       "</tbody>\n",
       "</table>\n"
      ],
      "text/latex": [
       "\\begin{tabular}{r|llllllllllllllllllll}\n",
       " V1 & V2 & V3 & V4 & V5 & V6 & V7 & V8 & V9 & V10 & V11 & V12 & V13 & V14 & V15 & V16 & V17 & V18 & V19 & V20\\\\\n",
       "\\hline\n",
       "\t 0.3689486  & 0.8162830  & 0.3789265  & 0.6990312  & 0.1132115  & 0.8860533  & 0.85719333 & 0.6280090  & 0.8686048  & 0.9929770  & 0.6207428  & 0.7006315  & 0.7104625  & 0.9454846  & 0.44218312 & 0.6167954  & 0.3983785  & 0.9740851  & 0.4962942  & 0.6190498 \\\\\n",
       "\t 0.4978480  & 0.6686216  & 0.1562422  & 0.7341765  & 0.7821235  & 0.6660901  & 0.09393332 & 0.1367171  & 0.2212838  & 0.7885122  & 0.9597345  & 0.5088494  & 0.1501004  & 0.1686903  & 0.04456456 & 0.2869243  & 0.6368349  & 0.2069578  & 0.8967705  & 0.1988470 \\\\\n",
       "\\end{tabular}\n"
      ],
      "text/markdown": [
       "\n",
       "V1 | V2 | V3 | V4 | V5 | V6 | V7 | V8 | V9 | V10 | V11 | V12 | V13 | V14 | V15 | V16 | V17 | V18 | V19 | V20 | \n",
       "|---|---|\n",
       "| 0.3689486  | 0.8162830  | 0.3789265  | 0.6990312  | 0.1132115  | 0.8860533  | 0.85719333 | 0.6280090  | 0.8686048  | 0.9929770  | 0.6207428  | 0.7006315  | 0.7104625  | 0.9454846  | 0.44218312 | 0.6167954  | 0.3983785  | 0.9740851  | 0.4962942  | 0.6190498  | \n",
       "| 0.4978480  | 0.6686216  | 0.1562422  | 0.7341765  | 0.7821235  | 0.6660901  | 0.09393332 | 0.1367171  | 0.2212838  | 0.7885122  | 0.9597345  | 0.5088494  | 0.1501004  | 0.1686903  | 0.04456456 | 0.2869243  | 0.6368349  | 0.2069578  | 0.8967705  | 0.1988470  | \n",
       "\n",
       "\n"
      ],
      "text/plain": [
       "  V1        V2        V3        V4        V5        V6        V7        \n",
       "1 0.3689486 0.8162830 0.3789265 0.6990312 0.1132115 0.8860533 0.85719333\n",
       "2 0.4978480 0.6686216 0.1562422 0.7341765 0.7821235 0.6660901 0.09393332\n",
       "  V8        V9        V10       V11       V12       V13       V14      \n",
       "1 0.6280090 0.8686048 0.9929770 0.6207428 0.7006315 0.7104625 0.9454846\n",
       "2 0.1367171 0.2212838 0.7885122 0.9597345 0.5088494 0.1501004 0.1686903\n",
       "  V15        V16       V17       V18       V19       V20      \n",
       "1 0.44218312 0.6167954 0.3983785 0.9740851 0.4962942 0.6190498\n",
       "2 0.04456456 0.2869243 0.6368349 0.2069578 0.8967705 0.1988470"
      ]
     },
     "metadata": {},
     "output_type": "display_data"
    }
   ],
   "source": [
    "df1 <- as.data.frame(matrix(runif(20*2), ncol=20) )\n",
    "head(df1)"
   ]
  },
  {
   "cell_type": "markdown",
   "metadata": {},
   "source": [
    "_df1_ is a wide dataframe. The goal of the assignment is to change _df1_ into a long dataframe _df2_. And show the first rows of the dataframe using `head(df2)`\n",
    "\n",
    "The dataframe _df2_ should look like this:\n",
    "\n",
    "| Key | Value      |\n",
    "|-----|------------|\n",
    "| V1  | 0.09413864 |\n",
    "| V1  | 0.69782526 |\n",
    "| V2  | 0.23460454 |\n",
    "| V2  | 0.51520514 |\n",
    "| V3  | 0.63181844 |\n",
    "| V3  | 0.22807211 |"
   ]
  },
  {
   "cell_type": "code",
   "execution_count": 3,
   "metadata": {},
   "outputs": [
    {
     "data": {
      "text/html": [
       "<table>\n",
       "<thead><tr><th scope=col>key</th><th scope=col>value</th></tr></thead>\n",
       "<tbody>\n",
       "\t<tr><td>V1       </td><td>0.3689486</td></tr>\n",
       "\t<tr><td>V1       </td><td>0.4978480</td></tr>\n",
       "\t<tr><td>V2       </td><td>0.8162830</td></tr>\n",
       "\t<tr><td>V2       </td><td>0.6686216</td></tr>\n",
       "\t<tr><td>V3       </td><td>0.3789265</td></tr>\n",
       "\t<tr><td>V3       </td><td>0.1562422</td></tr>\n",
       "</tbody>\n",
       "</table>\n"
      ],
      "text/latex": [
       "\\begin{tabular}{r|ll}\n",
       " key & value\\\\\n",
       "\\hline\n",
       "\t V1        & 0.3689486\\\\\n",
       "\t V1        & 0.4978480\\\\\n",
       "\t V2        & 0.8162830\\\\\n",
       "\t V2        & 0.6686216\\\\\n",
       "\t V3        & 0.3789265\\\\\n",
       "\t V3        & 0.1562422\\\\\n",
       "\\end{tabular}\n"
      ],
      "text/markdown": [
       "\n",
       "key | value | \n",
       "|---|---|---|---|---|---|\n",
       "| V1        | 0.3689486 | \n",
       "| V1        | 0.4978480 | \n",
       "| V2        | 0.8162830 | \n",
       "| V2        | 0.6686216 | \n",
       "| V3        | 0.3789265 | \n",
       "| V3        | 0.1562422 | \n",
       "\n",
       "\n"
      ],
      "text/plain": [
       "  key value    \n",
       "1 V1  0.3689486\n",
       "2 V1  0.4978480\n",
       "3 V2  0.8162830\n",
       "4 V2  0.6686216\n",
       "5 V3  0.3789265\n",
       "6 V3  0.1562422"
      ]
     },
     "metadata": {},
     "output_type": "display_data"
    }
   ],
   "source": [
    "df2 <- df1 %>%\n",
    "  gather()\n",
    "\n",
    "head(df2)"
   ]
  },
  {
   "cell_type": "markdown",
   "metadata": {},
   "source": [
    "## Assignment 2\n",
    "\n",
    "We will generate some data:"
   ]
  },
  {
   "cell_type": "code",
   "execution_count": 4,
   "metadata": {},
   "outputs": [
    {
     "data": {
      "text/html": [
       "<table>\n",
       "<thead><tr><th scope=col>id</th><th scope=col>V_1</th><th scope=col>V_2</th></tr></thead>\n",
       "<tbody>\n",
       "\t<tr><td>1        </td><td>42.46757 </td><td>-87.81005</td></tr>\n",
       "\t<tr><td>2        </td><td>42.04915 </td><td>-88.27303</td></tr>\n",
       "\t<tr><td>3        </td><td>39.11054 </td><td>-90.32408</td></tr>\n",
       "</tbody>\n",
       "</table>\n"
      ],
      "text/latex": [
       "\\begin{tabular}{r|lll}\n",
       " id & V\\_1 & V\\_2\\\\\n",
       "\\hline\n",
       "\t 1         & 42.46757  & -87.81005\\\\\n",
       "\t 2         & 42.04915  & -88.27303\\\\\n",
       "\t 3         & 39.11054  & -90.32408\\\\\n",
       "\\end{tabular}\n"
      ],
      "text/markdown": [
       "\n",
       "id | V_1 | V_2 | \n",
       "|---|---|---|\n",
       "| 1         | 42.46757  | -87.81005 | \n",
       "| 2         | 42.04915  | -88.27303 | \n",
       "| 3         | 39.11054  | -90.32408 | \n",
       "\n",
       "\n"
      ],
      "text/plain": [
       "  id V_1      V_2      \n",
       "1 1  42.46757 -87.81005\n",
       "2 2  42.04915 -88.27303\n",
       "3 3  39.11054 -90.32408"
      ]
     },
     "metadata": {},
     "output_type": "display_data"
    }
   ],
   "source": [
    "df3 <- as.data.frame(read.table(header=TRUE, text='\n",
    "      id        V_1       V_2                \n",
    "          1  42.467573  -87.810047     \n",
    "          2  42.049148  -88.273029\n",
    "          3  39.110539  -90.324080\n",
    "                       '))\n",
    "\n",
    "head(df3)"
   ]
  },
  {
   "cell_type": "code",
   "execution_count": 5,
   "metadata": {},
   "outputs": [
    {
     "data": {
      "text/html": [
       "<table>\n",
       "<thead><tr><th scope=col>V_3</th><th scope=col>V_4</th><th scope=col>id</th></tr></thead>\n",
       "<tbody>\n",
       "\t<tr><td>one  </td><td>1h   </td><td>1    </td></tr>\n",
       "\t<tr><td>two  </td><td>1h   </td><td>1    </td></tr>\n",
       "\t<tr><td>three</td><td>8h   </td><td>2    </td></tr>\n",
       "\t<tr><td>four </td><td>1h   </td><td>4    </td></tr>\n",
       "</tbody>\n",
       "</table>\n"
      ],
      "text/latex": [
       "\\begin{tabular}{r|lll}\n",
       " V\\_3 & V\\_4 & id\\\\\n",
       "\\hline\n",
       "\t one   & 1h    & 1    \\\\\n",
       "\t two   & 1h    & 1    \\\\\n",
       "\t three & 8h    & 2    \\\\\n",
       "\t four  & 1h    & 4    \\\\\n",
       "\\end{tabular}\n"
      ],
      "text/markdown": [
       "\n",
       "V_3 | V_4 | id | \n",
       "|---|---|---|---|\n",
       "| one   | 1h    | 1     | \n",
       "| two   | 1h    | 1     | \n",
       "| three | 8h    | 2     | \n",
       "| four  | 1h    | 4     | \n",
       "\n",
       "\n"
      ],
      "text/plain": [
       "  V_3   V_4 id\n",
       "1 one   1h  1 \n",
       "2 two   1h  1 \n",
       "3 three 8h  2 \n",
       "4 four  1h  4 "
      ]
     },
     "metadata": {},
     "output_type": "display_data"
    }
   ],
   "source": [
    "df4 <- as.data.frame(read.table(header=TRUE, text='\n",
    "     V_3            V_4         id                 \n",
    "      one         1h            1\n",
    "      two         1h            1\n",
    "      three       8h            2\n",
    "      four        1h            4\n",
    "'))\n",
    "\n",
    "head(df4)"
   ]
  },
  {
   "cell_type": "markdown",
   "metadata": {},
   "source": [
    "\n",
    "You will have to merge these files, returning all rows and all columns from both _df3_ and _df5_. Where there are not matching values, return _NA_ for the missings. \n",
    "\n",
    "This should be the end result:\n",
    "\n",
    "| id | V_1      | V_2       | V_3   | V_4 |\n",
    "|----|----------|-----------|-------|-----|\n",
    "| 1  | 42.46757 | -87.81005 | one   | 1h  |\n",
    "| 1  | 42.46757 | -87.81005 | two   | 1h  |\n",
    "| 2  | 42.04915 | -88.27303 | three | 8h  |\n",
    "| 3  | 39.11054 | -90.32408 | NA    | NA  |\n",
    "| 4  | NA       | NA        | four  | 1h  |\n",
    "\n"
   ]
  },
  {
   "cell_type": "code",
   "execution_count": 6,
   "metadata": {},
   "outputs": [
    {
     "data": {
      "text/html": [
       "<table>\n",
       "<thead><tr><th scope=col>id</th><th scope=col>V_1</th><th scope=col>V_2</th><th scope=col>V_3</th><th scope=col>V_4</th></tr></thead>\n",
       "<tbody>\n",
       "\t<tr><td>1        </td><td>42.46757 </td><td>-87.81005</td><td>one      </td><td>1h       </td></tr>\n",
       "\t<tr><td>1        </td><td>42.46757 </td><td>-87.81005</td><td>two      </td><td>1h       </td></tr>\n",
       "\t<tr><td>2        </td><td>42.04915 </td><td>-88.27303</td><td>three    </td><td>8h       </td></tr>\n",
       "\t<tr><td>3        </td><td>39.11054 </td><td>-90.32408</td><td>NA       </td><td>NA       </td></tr>\n",
       "\t<tr><td>4        </td><td>      NA </td><td>       NA</td><td>four     </td><td>1h       </td></tr>\n",
       "</tbody>\n",
       "</table>\n"
      ],
      "text/latex": [
       "\\begin{tabular}{r|lllll}\n",
       " id & V\\_1 & V\\_2 & V\\_3 & V\\_4\\\\\n",
       "\\hline\n",
       "\t 1         & 42.46757  & -87.81005 & one       & 1h       \\\\\n",
       "\t 1         & 42.46757  & -87.81005 & two       & 1h       \\\\\n",
       "\t 2         & 42.04915  & -88.27303 & three     & 8h       \\\\\n",
       "\t 3         & 39.11054  & -90.32408 & NA        & NA       \\\\\n",
       "\t 4         &       NA  &        NA & four      & 1h       \\\\\n",
       "\\end{tabular}\n"
      ],
      "text/markdown": [
       "\n",
       "id | V_1 | V_2 | V_3 | V_4 | \n",
       "|---|---|---|---|---|\n",
       "| 1         | 42.46757  | -87.81005 | one       | 1h        | \n",
       "| 1         | 42.46757  | -87.81005 | two       | 1h        | \n",
       "| 2         | 42.04915  | -88.27303 | three     | 8h        | \n",
       "| 3         | 39.11054  | -90.32408 | NA        | NA        | \n",
       "| 4         |       NA  |        NA | four      | 1h        | \n",
       "\n",
       "\n"
      ],
      "text/plain": [
       "  id V_1      V_2       V_3   V_4\n",
       "1 1  42.46757 -87.81005 one   1h \n",
       "2 1  42.46757 -87.81005 two   1h \n",
       "3 2  42.04915 -88.27303 three 8h \n",
       "4 3  39.11054 -90.32408 NA    NA \n",
       "5 4        NA        NA four  1h "
      ]
     },
     "metadata": {},
     "output_type": "display_data"
    }
   ],
   "source": [
    "df5 <- full_join(df3, df4, by='id')\n",
    "df5"
   ]
  },
  {
   "cell_type": "markdown",
   "metadata": {},
   "source": [
    "End of notebook"
   ]
  }
 ],
 "metadata": {
  "anaconda-cloud": {},
  "kernelspec": {
   "display_name": "R",
   "language": "R",
   "name": "ir"
  },
  "language_info": {
   "codemirror_mode": "r",
   "file_extension": ".r",
   "mimetype": "text/x-r-source",
   "name": "R",
   "pygments_lexer": "r",
   "version": "3.4.3"
  }
 },
 "nbformat": 4,
 "nbformat_minor": 1
}
